{
 "cells": [
  {
   "cell_type": "code",
   "execution_count": 3,
   "metadata": {},
   "outputs": [
    {
     "name": "stdout",
     "output_type": "stream",
     "text": [
      "Requirement already satisfied: beautifulsoup4 in c:\\users\\v505\\anaconda3\\lib\\site-packages (4.6.3)\n"
     ]
    }
   ],
   "source": [
    "!pip install beautifulsoup4"
   ]
  },
  {
   "cell_type": "code",
   "execution_count": 4,
   "metadata": {},
   "outputs": [
    {
     "name": "stdout",
     "output_type": "stream",
     "text": [
      "Requirement already satisfied: requests in c:\\users\\v505\\anaconda3\\lib\\site-packages (2.21.0)\n",
      "Requirement already satisfied: idna<2.9,>=2.5 in c:\\users\\v505\\anaconda3\\lib\\site-packages (from requests) (2.8)\n",
      "Requirement already satisfied: chardet<3.1.0,>=3.0.2 in c:\\users\\v505\\anaconda3\\lib\\site-packages (from requests) (3.0.4)\n",
      "Requirement already satisfied: urllib3<1.25,>=1.21.1 in c:\\users\\v505\\anaconda3\\lib\\site-packages (from requests) (1.24.1)\n",
      "Requirement already satisfied: certifi>=2017.4.17 in c:\\users\\v505\\anaconda3\\lib\\site-packages (from requests) (2018.11.29)\n"
     ]
    }
   ],
   "source": [
    "!pip install requests"
   ]
  },
  {
   "cell_type": "code",
   "execution_count": 1,
   "metadata": {},
   "outputs": [
    {
     "name": "stdout",
     "output_type": "stream",
     "text": [
      "\n",
      "***** Page 1 in action *****\n",
      "Nike’s Secret to Success on Instagram: Building an Engaged Community\n",
      "This post is part of our Instagram Marketing Strategy series. The series provides you with actionable insights and lessons on how businesses are using Instagram....\n",
      "https://blog.bufferapp.com/category/case-studies\n",
      "Building an Ecommerce Business: From Zero to $100,000 in Revenue from Instagram Ads\n",
      "This post is part of our Instagram Marketing Strategy series. The series provides you with actionable insights and lessons on how businesses are using Instagram....\n",
      "https://blog.bufferapp.com/category/case-studies\n",
      "How Blenders Eyewear Creates Profitable Instagram Ad Campaigns\n",
      "This post is part of our Instagram Marketing Strategy series. The series provides you with actionable insights and lessons on how businesses are using Instagram....\n",
      "https://blog.bufferapp.com/category/case-studies\n",
      "How Bustle Ignited Engagement and Created New Revenue Streams Using Instagram Stories\n",
      "This post is part of our Instagram Marketing Strategy series. The series provides you with actionable insights and lessons on how businesses are using Instagram....\n",
      "https://blog.bufferapp.com/category/case-studies\n",
      "The Secret to Instagram Success: Square’s Community Curation Strategy\n",
      "This post is part of our Instagram Marketing Strategy series. The series provides you with actionable insights and lessons on how businesses are using Instagram....\n",
      "https://blog.bufferapp.com/category/case-studies\n",
      "How Turn Studio Transitioned a Side Project into a Thriving Ecommerce Business with Instagram\n",
      "This post is part of our Instagram Marketing Strategy series. The series provides you with actionable insights and lessons on how businesses are using Instagram....\n",
      "https://blog.bufferapp.com/category/case-studies\n",
      "How to Create Facebook and Instagram Stories Ads That Get You Results\n",
      "This post is part of our Instagram Marketing Strategy series. The series provides you with actionable insights and lessons on how businesses are using Instagram....\n",
      "https://blog.bufferapp.com/category/social-media-marketing/advertising\n",
      "How to Sell on Instagram: A Stories Strategy That’s Generated ‘Hundreds of Thousands’ in Sales\n",
      "Kettlebell Kings generates 400-600 new leads per week from social media, with half of those leads coming directly from Instagram. And ‘hundreds of thousands of...\n",
      "https://blog.bufferapp.com/category/case-studies\n",
      "How Instagram Helps Callie’s Hot Little Biscuit to Serve Over 250,000 Customers Per Year\n",
      "This post is part of our Instagram Marketing Strategy series. The series provides you with actionable insights and lessons on how businesses are using Instagram....\n",
      "https://blog.bufferapp.com/category/social-media-marketing/instagram\n",
      "The State of Social 2019 Report: New Data and Social Media Marketing Research\n",
      "\n",
      "https://blog.bufferapp.com/category/social-media-marketing/research\n",
      "6 Powerful Psychological Biases and How They Influencer Human Behavior Online\n",
      "A large majority of marketers wouldn’t consider themselves psychologists. Yet understanding the growing field of marketing psychology can help persuade and influence audiences in powerful...\n",
      "https://blog.bufferapp.com/category/podcast\n",
      "\n",
      "***** Page 2 in action *****\n",
      "The Most In-Demand Skills of 2019 (According to LinkedIn), YouTube Advertising, Our Ultimate Facebook Engagement Guide, and More!\n",
      "Each week on the Science of Social Media we cover some of the most important trends, news, research, and insights in social media marketing. In...\n",
      "https://blog.bufferapp.com/category/podcast\n",
      "What 777,367,063 Facebook Posts Tell Us About Successful Content in 2019 (New Research)\n",
      "Facebook marketing in 2019 isn’t dead. On the contrary, it’s far from it. Now removed from the dim outlook that businesses faced at the beginning of...\n",
      "https://blog.bufferapp.com/category/social-media-marketing/facebook\n",
      "5 Data-Backed Social Media Trends You Need to Know for 2019\n",
      "2019 is here and gone are the days where generating audience engagement on social media was primarily a passive process. The always-online audiences of today...\n",
      "https://blog.bufferapp.com/category/news-trends\n",
      "13 Social Media Experts Share Their Biggest Piece of Marketing Advice\n",
      "When in doubt about your marketing strategy, turn to the social media experts. Often the best way to learn about a craft is from someone...\n",
      "https://blog.bufferapp.com/category/podcast\n",
      "How to Use Video Content to Raise Brand Awareness and Sell Your Product\n",
      "Video content is one of the most popular mediums for businesses today, and for good reason. Video is more engaging, more memorable, and more popular...\n",
      "https://blog.bufferapp.com/category/podcast\n",
      "Can Twitter Threads Increase Reach, Engagement, and Referral Traffic? An Experiment\n",
      "How can you increase Twitter reach and engagement? That’s something that many marketers are thinking about, including Rand Fishkin, the founder of SparkToro, who has been wondering...\n",
      "https://blog.bufferapp.com/category/social-media-marketing/twitter\n",
      "A Marketer’s Guide to Decoding Social Media Algorithms in 2019\n",
      "Social media algorithms play a very important role in the ability for marketers and business owners to make an impact online. And although algorithms are...\n",
      "https://blog.bufferapp.com/category/podcast\n",
      "The Power of Purpose: How Taking a Stand Helps Brands to Win Customer’s Hearts (and Business)\n",
      "Black Friday is the busiest shopping day of the year in the U.S., with more than 116 million people hitting the shops in search of...\n",
      "https://blog.bufferapp.com/category/social-media-marketing\n",
      "Life After the News Feed: Why Facebook is Shifting to Stories (And Why Your Business Should Too)\n",
      "As Facebook begins to embrace Stories, it's time for your business to shift strategy and think about what social media marketing will look like after...\n",
      "https://blog.bufferapp.com/category/social-media-marketing/facebook\n",
      "How a Branded Hashtag Campaign Helped Tommy’s Superfoods to Reach More Than One Million People\n",
      "Tommy’s Superfoods’ #ThinkVeggiesFirst branded hashtag campaign reach more than one million people on social media and grow its email list by 22 percent.\n",
      "https://blog.bufferapp.com/category/social-media-marketing\n",
      "Introducing Stories Creator: Quickly Create Thumb-Stopping Content for Stories\n",
      "As a social media marketer, a big part of your job is to build awareness of your brand and drive conversions on various social channels....\n",
      "https://blog.bufferapp.com/category/social-media-marketing/instagram-stories\n",
      "Why Personalization is the Next Big Opportunity in Social Media Marketing\n",
      "Social media marketers are always looking to uncover the “next big thing”, and as we head into 2019 personalized social media engagement is becoming the...\n",
      "https://blog.bufferapp.com/category/social-media-marketing\n",
      "\n",
      "***** Page 3 in action *****\n",
      "Your Go-To Small Business Marketing Guide for 2019 (New Tips and Ideas)\n",
      "According to the U.S. Small Business Administration, an incredible two-thirds of small business owners and entrepreneurs (66%) are personally responsible for three or more areas...\n",
      "https://blog.bufferapp.com/category/podcast\n",
      "We Analyzed 15,000 Instagram Stories from 200 of the World’s Top Brands (New Stories Research)\n",
      "An incredible 400 million people around the world use Instagram Stories on a daily basis (with that number rapidly growing by the minute). Besides being...\n",
      "https://blog.bufferapp.com/category/social-media-marketing/instagram-stories\n",
      "7 Invaluable Marketing Skills That Help Teams Produce Consistently Great Content\n",
      "In speaking with thousands of marketers and businesses over the past several years, we’ve learned that marketing has an incredible potential to impact people’s lives....\n",
      "https://blog.bufferapp.com/category/social-media-marketing/guides-courses\n",
      "Should Small Businesses be on IGTV? (and 3 Quick Ways to Test It Out)\n",
      "Repurposing your content across channels is a great way to get the most from your social media strategy. However, sometimes, certain channels will perform better...\n",
      "https://blog.bufferapp.com/category/social-media-marketing/instagram\n",
      "How to Find Influencers That Are a Fit With Your Business\n",
      "Today’s top influencers aren’t just content creators or media buys – they’re both. But it can be hard to find influencers that feel like a...\n",
      "https://blog.bufferapp.com/category/social-media-marketing/influencer-marketing\n",
      "9 Marketing Ideas That Don’t Include Blogging (Plus How to Identify Big Opportunities)\n",
      "If you try to do everything with your marketing strategy you end up doing next to nothing. Focus is key when developing new marketing ideas...\n",
      "https://blog.bufferapp.com/category/podcast\n",
      "21 Top Social Media Sites to Consider for Your Brand\n",
      "Whether you are a seasoned social media marketer, a marketer looking to venture into social media marketing, or a business owner looking to leverage on social...\n",
      "https://blog.bufferapp.com/category/social-media-marketing/resources\n",
      "What a Real-Life Social Media Style Guide Looks Like (and How to Make Your Own)\n",
      "What do all of your favorite social media accounts have in common? Most likely they are consistent, and you can immediately recognize their style when...\n",
      "https://blog.bufferapp.com/category/social-media-marketing\n",
      "How to Launch on Product Hunt Like a Pro, Lessons from 17.2 Million Twitter Impressions, 4 Key Facebook Trends for 2019, and More!\n",
      "Looking to catch up on the latest social media news, but short on time? We have you covered! This week (episode #117) we’re chatting about...\n",
      "https://blog.bufferapp.com/category/podcast\n",
      "3 Predictions For IG Shopping and the Future of Ecommerce on Instagram\n",
      "Instagram is rumored to be building a standalone shopping app, IG Shopping. But what would a separate shopping app mean for the future of ecommerce...\n",
      "https://blog.bufferapp.com/category/social-media-marketing/instagram\n",
      "Influencer Marketing: The A to Z Guide on Getting Started and Calculating ROI\n",
      "Influencer marketing is here to stay. Beauty, business, fashion, and tech influencers - among others - can have a massive impact in helping businesses to reach...\n",
      "https://blog.bufferapp.com/category/podcast\n",
      "Introducing SocialChat by Buffer, the Easiest Way to Start Conversations With Website Visitors\n",
      "SocialChat is a simple website chat widget from the team at Buffer. By simply copying and pasting a few lines of code, you can add...\n",
      "https://blog.bufferapp.com/category/bufferupdates\n"
     ]
    },
    {
     "name": "stdout",
     "output_type": "stream",
     "text": [
      "Wall time: 46 s\n"
     ]
    }
   ],
   "source": [
    "%%time\n",
    "import requests\n",
    "import csv\n",
    "import pandas as pd\n",
    "from bs4 import BeautifulSoup\n",
    "from time import sleep\n",
    "from random import randint\n",
    "from time import time\n",
    " \n",
    "header = ['headline','summary','link']\n",
    "data = []\n",
    "for i in range(1,4):\n",
    "    quote_page = requests.get('https://blog.bufferapp.com/page/'+ str(i))\n",
    "    sleep(randint(8,15))\n",
    "    print(\"\\n***** Page \" + str(i) +\" in action *****\")\n",
    "    soup = BeautifulSoup(quote_page.content,'html.parser')\n",
    "    \n",
    "    for article in soup.find_all(\"div\", attrs={\"class\":\"entry-meta\"}):\n",
    "        headline = article.h3.a.text\n",
    "        summary = article.p.text\n",
    "        link = article.a.get('href')\n",
    "        print(headline)\n",
    "        print(summary)\n",
    "        print(link)\n",
    "        data.append((headline, summary, link))\n",
    "        \n",
    "df = pd.DataFrame(data,\n",
    "    columns = header\n",
    ")\n",
    "df.to_csv('Desktop/buffer_blog.csv', sep='\\t', encoding='utf-8')"
   ]
  },
  {
   "cell_type": "code",
   "execution_count": null,
   "metadata": {},
   "outputs": [],
   "source": []
  }
 ],
 "metadata": {
  "kernelspec": {
   "display_name": "Python 3",
   "language": "python",
   "name": "python3"
  },
  "language_info": {
   "codemirror_mode": {
    "name": "ipython",
    "version": 3
   },
   "file_extension": ".py",
   "mimetype": "text/x-python",
   "name": "python",
   "nbconvert_exporter": "python",
   "pygments_lexer": "ipython3",
   "version": "3.7.1"
  }
 },
 "nbformat": 4,
 "nbformat_minor": 2
}
